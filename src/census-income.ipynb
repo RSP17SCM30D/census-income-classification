{
 "cells": [
  {
   "cell_type": "code",
   "execution_count": null,
   "metadata": {},
   "outputs": [],
   "source": []
  },
  {
   "cell_type": "code",
   "execution_count": 1,
   "metadata": {},
   "outputs": [],
   "source": [
    "# Importing dependencies\n",
    "import pandas as pd\n",
    "import numpy as np\n",
    "\n",
    "# for visualizations\n",
    "import seaborn as sns\n",
    "import matplotlib.pyplot as plt\n",
    "%matplotlib inline\n",
    "%config InlineBackend.figure_format='retina'\n",
    "\n",
    "# For Hypothesis testing\n",
    "import statsmodels.formula.api as smf"
   ]
  },
  {
   "cell_type": "markdown",
   "metadata": {},
   "source": [
    "### Loading the Dataset"
   ]
  },
  {
   "cell_type": "code",
   "execution_count": 2,
   "metadata": {
    "scrolled": true
   },
   "outputs": [
    {
     "name": "stdout",
     "output_type": "stream",
     "text": [
      "199523 rows, 42 columns\n"
     ]
    },
    {
     "data": {
      "text/html": [
       "<div>\n",
       "<style>\n",
       "    .dataframe thead tr:only-child th {\n",
       "        text-align: right;\n",
       "    }\n",
       "\n",
       "    .dataframe thead th {\n",
       "        text-align: left;\n",
       "    }\n",
       "\n",
       "    .dataframe tbody tr th {\n",
       "        vertical-align: top;\n",
       "    }\n",
       "</style>\n",
       "<table border=\"1\" class=\"dataframe\">\n",
       "  <thead>\n",
       "    <tr style=\"text-align: right;\">\n",
       "      <th></th>\n",
       "      <th>Age</th>\n",
       "      <th>ClassOfWorker</th>\n",
       "      <th>Industry</th>\n",
       "      <th>Occupation</th>\n",
       "      <th>Education</th>\n",
       "      <th>WagePerHr</th>\n",
       "      <th>EducationalInst</th>\n",
       "      <th>MaritalStatus</th>\n",
       "      <th>IndustryCode</th>\n",
       "      <th>OccupationCode</th>\n",
       "      <th>Race</th>\n",
       "      <th>HispanicOrigin</th>\n",
       "      <th>Sex</th>\n",
       "      <th>MemLabourUnion</th>\n",
       "      <th>UnemploymentReason</th>\n",
       "      <th>EmploymentStatus</th>\n",
       "      <th>CapitalGain</th>\n",
       "      <th>CapitalLoss</th>\n",
       "      <th>Dividends</th>\n",
       "      <th>FEDERALTAX</th>\n",
       "      <th>TaxFilerStat</th>\n",
       "      <th>PrevState</th>\n",
       "      <th>HouseholdStatus</th>\n",
       "      <th>HouseholdSummary</th>\n",
       "      <th>INSTANCEWEIGHT</th>\n",
       "      <th>MigrationCode_MSA</th>\n",
       "      <th>MigrationCode_REG</th>\n",
       "      <th>MigrationCode_WITHIN_REG</th>\n",
       "      <th>HouseOneYearAgo</th>\n",
       "      <th>MigrationPrevResInSunbelt</th>\n",
       "      <th>NumOfPersonForEmployer</th>\n",
       "      <th>Parent</th>\n",
       "      <th>BirthCountryFather</th>\n",
       "      <th>BirthCountryMother</th>\n",
       "      <th>BirthCountrySelf</th>\n",
       "      <th>Citizenship</th>\n",
       "      <th>OwnBusiness</th>\n",
       "      <th>VeteranQA</th>\n",
       "      <th>VeteranBenefits</th>\n",
       "      <th>WeeksWorked</th>\n",
       "      <th>Year</th>\n",
       "      <th>targetIncome</th>\n",
       "    </tr>\n",
       "  </thead>\n",
       "  <tbody>\n",
       "    <tr>\n",
       "      <th>0</th>\n",
       "      <td>73</td>\n",
       "      <td>Not in universe</td>\n",
       "      <td>0</td>\n",
       "      <td>0</td>\n",
       "      <td>High school graduate</td>\n",
       "      <td>0</td>\n",
       "      <td>Not in universe</td>\n",
       "      <td>Widowed</td>\n",
       "      <td>Not in universe or children</td>\n",
       "      <td>Not in universe</td>\n",
       "      <td>White</td>\n",
       "      <td>All other</td>\n",
       "      <td>Female</td>\n",
       "      <td>Not in universe</td>\n",
       "      <td>Not in universe</td>\n",
       "      <td>Not in labor force</td>\n",
       "      <td>0</td>\n",
       "      <td>0</td>\n",
       "      <td>0</td>\n",
       "      <td>Nonfiler</td>\n",
       "      <td>Not in universe</td>\n",
       "      <td>Not in universe</td>\n",
       "      <td>Other Rel 18+ ever marr not in subfamily</td>\n",
       "      <td>Other relative of householder</td>\n",
       "      <td>1700.09</td>\n",
       "      <td>?</td>\n",
       "      <td>?</td>\n",
       "      <td>?</td>\n",
       "      <td>Not in universe under 1 year old</td>\n",
       "      <td>?</td>\n",
       "      <td>0</td>\n",
       "      <td>Not in universe</td>\n",
       "      <td>United-States</td>\n",
       "      <td>United-States</td>\n",
       "      <td>United-States</td>\n",
       "      <td>Native- Born in the United States</td>\n",
       "      <td>0</td>\n",
       "      <td>Not in universe</td>\n",
       "      <td>2</td>\n",
       "      <td>0</td>\n",
       "      <td>95</td>\n",
       "      <td>- 50000.</td>\n",
       "    </tr>\n",
       "    <tr>\n",
       "      <th>1</th>\n",
       "      <td>58</td>\n",
       "      <td>Self-employed-not incorporated</td>\n",
       "      <td>4</td>\n",
       "      <td>34</td>\n",
       "      <td>Some college but no degree</td>\n",
       "      <td>0</td>\n",
       "      <td>Not in universe</td>\n",
       "      <td>Divorced</td>\n",
       "      <td>Construction</td>\n",
       "      <td>Precision production craft &amp; repair</td>\n",
       "      <td>White</td>\n",
       "      <td>All other</td>\n",
       "      <td>Male</td>\n",
       "      <td>Not in universe</td>\n",
       "      <td>Not in universe</td>\n",
       "      <td>Children or Armed Forces</td>\n",
       "      <td>0</td>\n",
       "      <td>0</td>\n",
       "      <td>0</td>\n",
       "      <td>Head of household</td>\n",
       "      <td>South</td>\n",
       "      <td>Arkansas</td>\n",
       "      <td>Householder</td>\n",
       "      <td>Householder</td>\n",
       "      <td>1053.55</td>\n",
       "      <td>MSA to MSA</td>\n",
       "      <td>Same county</td>\n",
       "      <td>Same county</td>\n",
       "      <td>No</td>\n",
       "      <td>Yes</td>\n",
       "      <td>1</td>\n",
       "      <td>Not in universe</td>\n",
       "      <td>United-States</td>\n",
       "      <td>United-States</td>\n",
       "      <td>United-States</td>\n",
       "      <td>Native- Born in the United States</td>\n",
       "      <td>0</td>\n",
       "      <td>Not in universe</td>\n",
       "      <td>2</td>\n",
       "      <td>52</td>\n",
       "      <td>94</td>\n",
       "      <td>- 50000.</td>\n",
       "    </tr>\n",
       "    <tr>\n",
       "      <th>2</th>\n",
       "      <td>18</td>\n",
       "      <td>Not in universe</td>\n",
       "      <td>0</td>\n",
       "      <td>0</td>\n",
       "      <td>10th grade</td>\n",
       "      <td>0</td>\n",
       "      <td>High school</td>\n",
       "      <td>Never married</td>\n",
       "      <td>Not in universe or children</td>\n",
       "      <td>Not in universe</td>\n",
       "      <td>Asian or Pacific Islander</td>\n",
       "      <td>All other</td>\n",
       "      <td>Female</td>\n",
       "      <td>Not in universe</td>\n",
       "      <td>Not in universe</td>\n",
       "      <td>Not in labor force</td>\n",
       "      <td>0</td>\n",
       "      <td>0</td>\n",
       "      <td>0</td>\n",
       "      <td>Nonfiler</td>\n",
       "      <td>Not in universe</td>\n",
       "      <td>Not in universe</td>\n",
       "      <td>Child 18+ never marr Not in a subfamily</td>\n",
       "      <td>Child 18 or older</td>\n",
       "      <td>991.95</td>\n",
       "      <td>?</td>\n",
       "      <td>?</td>\n",
       "      <td>?</td>\n",
       "      <td>Not in universe under 1 year old</td>\n",
       "      <td>?</td>\n",
       "      <td>0</td>\n",
       "      <td>Not in universe</td>\n",
       "      <td>Vietnam</td>\n",
       "      <td>Vietnam</td>\n",
       "      <td>Vietnam</td>\n",
       "      <td>Foreign born- Not a citizen of U S</td>\n",
       "      <td>0</td>\n",
       "      <td>Not in universe</td>\n",
       "      <td>2</td>\n",
       "      <td>0</td>\n",
       "      <td>95</td>\n",
       "      <td>- 50000.</td>\n",
       "    </tr>\n",
       "    <tr>\n",
       "      <th>3</th>\n",
       "      <td>9</td>\n",
       "      <td>Not in universe</td>\n",
       "      <td>0</td>\n",
       "      <td>0</td>\n",
       "      <td>Children</td>\n",
       "      <td>0</td>\n",
       "      <td>Not in universe</td>\n",
       "      <td>Never married</td>\n",
       "      <td>Not in universe or children</td>\n",
       "      <td>Not in universe</td>\n",
       "      <td>White</td>\n",
       "      <td>All other</td>\n",
       "      <td>Female</td>\n",
       "      <td>Not in universe</td>\n",
       "      <td>Not in universe</td>\n",
       "      <td>Children or Armed Forces</td>\n",
       "      <td>0</td>\n",
       "      <td>0</td>\n",
       "      <td>0</td>\n",
       "      <td>Nonfiler</td>\n",
       "      <td>Not in universe</td>\n",
       "      <td>Not in universe</td>\n",
       "      <td>Child &lt;18 never marr not in subfamily</td>\n",
       "      <td>Child under 18 never married</td>\n",
       "      <td>1758.14</td>\n",
       "      <td>Nonmover</td>\n",
       "      <td>Nonmover</td>\n",
       "      <td>Nonmover</td>\n",
       "      <td>Yes</td>\n",
       "      <td>Not in universe</td>\n",
       "      <td>0</td>\n",
       "      <td>Both parents present</td>\n",
       "      <td>United-States</td>\n",
       "      <td>United-States</td>\n",
       "      <td>United-States</td>\n",
       "      <td>Native- Born in the United States</td>\n",
       "      <td>0</td>\n",
       "      <td>Not in universe</td>\n",
       "      <td>0</td>\n",
       "      <td>0</td>\n",
       "      <td>94</td>\n",
       "      <td>- 50000.</td>\n",
       "    </tr>\n",
       "    <tr>\n",
       "      <th>4</th>\n",
       "      <td>10</td>\n",
       "      <td>Not in universe</td>\n",
       "      <td>0</td>\n",
       "      <td>0</td>\n",
       "      <td>Children</td>\n",
       "      <td>0</td>\n",
       "      <td>Not in universe</td>\n",
       "      <td>Never married</td>\n",
       "      <td>Not in universe or children</td>\n",
       "      <td>Not in universe</td>\n",
       "      <td>White</td>\n",
       "      <td>All other</td>\n",
       "      <td>Female</td>\n",
       "      <td>Not in universe</td>\n",
       "      <td>Not in universe</td>\n",
       "      <td>Children or Armed Forces</td>\n",
       "      <td>0</td>\n",
       "      <td>0</td>\n",
       "      <td>0</td>\n",
       "      <td>Nonfiler</td>\n",
       "      <td>Not in universe</td>\n",
       "      <td>Not in universe</td>\n",
       "      <td>Child &lt;18 never marr not in subfamily</td>\n",
       "      <td>Child under 18 never married</td>\n",
       "      <td>1069.16</td>\n",
       "      <td>Nonmover</td>\n",
       "      <td>Nonmover</td>\n",
       "      <td>Nonmover</td>\n",
       "      <td>Yes</td>\n",
       "      <td>Not in universe</td>\n",
       "      <td>0</td>\n",
       "      <td>Both parents present</td>\n",
       "      <td>United-States</td>\n",
       "      <td>United-States</td>\n",
       "      <td>United-States</td>\n",
       "      <td>Native- Born in the United States</td>\n",
       "      <td>0</td>\n",
       "      <td>Not in universe</td>\n",
       "      <td>0</td>\n",
       "      <td>0</td>\n",
       "      <td>94</td>\n",
       "      <td>- 50000.</td>\n",
       "    </tr>\n",
       "  </tbody>\n",
       "</table>\n",
       "</div>"
      ],
      "text/plain": [
       "   Age                   ClassOfWorker  Industry  Occupation  \\\n",
       "0   73                 Not in universe         0           0   \n",
       "1   58  Self-employed-not incorporated         4          34   \n",
       "2   18                 Not in universe         0           0   \n",
       "3    9                 Not in universe         0           0   \n",
       "4   10                 Not in universe         0           0   \n",
       "\n",
       "                    Education  WagePerHr  EducationalInst  MaritalStatus  \\\n",
       "0        High school graduate          0  Not in universe        Widowed   \n",
       "1  Some college but no degree          0  Not in universe       Divorced   \n",
       "2                  10th grade          0      High school  Never married   \n",
       "3                    Children          0  Not in universe  Never married   \n",
       "4                    Children          0  Not in universe  Never married   \n",
       "\n",
       "                  IndustryCode                       OccupationCode  \\\n",
       "0  Not in universe or children                      Not in universe   \n",
       "1                 Construction  Precision production craft & repair   \n",
       "2  Not in universe or children                      Not in universe   \n",
       "3  Not in universe or children                      Not in universe   \n",
       "4  Not in universe or children                      Not in universe   \n",
       "\n",
       "                        Race HispanicOrigin     Sex   MemLabourUnion  \\\n",
       "0                      White      All other  Female  Not in universe   \n",
       "1                      White      All other    Male  Not in universe   \n",
       "2  Asian or Pacific Islander      All other  Female  Not in universe   \n",
       "3                      White      All other  Female  Not in universe   \n",
       "4                      White      All other  Female  Not in universe   \n",
       "\n",
       "  UnemploymentReason          EmploymentStatus  CapitalGain  CapitalLoss  \\\n",
       "0    Not in universe        Not in labor force            0            0   \n",
       "1    Not in universe  Children or Armed Forces            0            0   \n",
       "2    Not in universe        Not in labor force            0            0   \n",
       "3    Not in universe  Children or Armed Forces            0            0   \n",
       "4    Not in universe  Children or Armed Forces            0            0   \n",
       "\n",
       "   Dividends         FEDERALTAX     TaxFilerStat        PrevState  \\\n",
       "0          0           Nonfiler  Not in universe  Not in universe   \n",
       "1          0  Head of household            South         Arkansas   \n",
       "2          0           Nonfiler  Not in universe  Not in universe   \n",
       "3          0           Nonfiler  Not in universe  Not in universe   \n",
       "4          0           Nonfiler  Not in universe  Not in universe   \n",
       "\n",
       "                            HouseholdStatus               HouseholdSummary  \\\n",
       "0  Other Rel 18+ ever marr not in subfamily  Other relative of householder   \n",
       "1                               Householder                    Householder   \n",
       "2   Child 18+ never marr Not in a subfamily              Child 18 or older   \n",
       "3     Child <18 never marr not in subfamily   Child under 18 never married   \n",
       "4     Child <18 never marr not in subfamily   Child under 18 never married   \n",
       "\n",
       "   INSTANCEWEIGHT MigrationCode_MSA MigrationCode_REG  \\\n",
       "0         1700.09                 ?                 ?   \n",
       "1         1053.55        MSA to MSA       Same county   \n",
       "2          991.95                 ?                 ?   \n",
       "3         1758.14          Nonmover          Nonmover   \n",
       "4         1069.16          Nonmover          Nonmover   \n",
       "\n",
       "  MigrationCode_WITHIN_REG                   HouseOneYearAgo  \\\n",
       "0                        ?  Not in universe under 1 year old   \n",
       "1              Same county                                No   \n",
       "2                        ?  Not in universe under 1 year old   \n",
       "3                 Nonmover                               Yes   \n",
       "4                 Nonmover                               Yes   \n",
       "\n",
       "  MigrationPrevResInSunbelt  NumOfPersonForEmployer                Parent  \\\n",
       "0                         ?                       0       Not in universe   \n",
       "1                       Yes                       1       Not in universe   \n",
       "2                         ?                       0       Not in universe   \n",
       "3           Not in universe                       0  Both parents present   \n",
       "4           Not in universe                       0  Both parents present   \n",
       "\n",
       "  BirthCountryFather BirthCountryMother BirthCountrySelf  \\\n",
       "0      United-States      United-States    United-States   \n",
       "1      United-States      United-States    United-States   \n",
       "2            Vietnam            Vietnam          Vietnam   \n",
       "3      United-States      United-States    United-States   \n",
       "4      United-States      United-States    United-States   \n",
       "\n",
       "                           Citizenship  OwnBusiness        VeteranQA  \\\n",
       "0    Native- Born in the United States            0  Not in universe   \n",
       "1    Native- Born in the United States            0  Not in universe   \n",
       "2  Foreign born- Not a citizen of U S             0  Not in universe   \n",
       "3    Native- Born in the United States            0  Not in universe   \n",
       "4    Native- Born in the United States            0  Not in universe   \n",
       "\n",
       "   VeteranBenefits  WeeksWorked  Year targetIncome  \n",
       "0                2            0    95     - 50000.  \n",
       "1                2           52    94     - 50000.  \n",
       "2                2            0    95     - 50000.  \n",
       "3                0            0    94     - 50000.  \n",
       "4                0            0    94     - 50000.  "
      ]
     },
     "metadata": {},
     "output_type": "display_data"
    }
   ],
   "source": [
    "# Loading the dataset into pandas dataframe\n",
    "path = \"../data/census-income.data.gz\"\n",
    "# set the column names\n",
    "censusColnames = ['Age', 'ClassOfWorker', 'Industry', 'Occupation', 'Education',\n",
    "                  'WagePerHr', 'EducationalInst', 'MaritalStatus', 'IndustryCode', \n",
    "                  'OccupationCode', 'Race', 'HispanicOrigin', 'Sex', 'MemLabourUnion',\n",
    "                  'UnemploymentReason', 'EmploymentStatus', 'CapitalGain', 'CapitalLoss',\n",
    "                  'Dividends', 'FEDERALTAX', 'TaxFilerStat', 'PrevState', \n",
    "                  'HouseholdStatus', 'HouseholdSummary', 'INSTANCEWEIGHT', \n",
    "                  'MigrationCode_MSA', 'MigrationCode_REG', \n",
    "                  'MigrationCode_WITHIN_REG', 'HouseOneYearAgo', \n",
    "                  'MigrationPrevResInSunbelt', 'NumOfPersonForEmployer', 'Parent', \n",
    "                  'BirthCountryFather', 'BirthCountryMother', 'BirthCountrySelf', \n",
    "                  'Citizenship', 'OwnBusiness', 'VeteranQA', 'VeteranBenefits', \n",
    "                  'WeeksWorked', 'Year', 'targetIncome']\n",
    "censusDf = pd.read_csv(path, sep=r',', skipinitialspace=True, \n",
    "                       names = censusColnames, header='infer')\n",
    "\n",
    "# Printing the dimensions of the dataset\n",
    "print(censusDf.shape[0],\"rows,\", censusDf.shape[1],\"columns\")\n",
    "\n",
    "# Displaying first five elements of all columns\n",
    "with pd.option_context('display.max_columns', None):\n",
    "    display(censusDf.head())"
   ]
  },
  {
   "cell_type": "code",
   "execution_count": null,
   "metadata": {
    "scrolled": true
   },
   "outputs": [],
   "source": []
  },
  {
   "cell_type": "markdown",
   "metadata": {},
   "source": [
    "## Data Wrangling"
   ]
  },
  {
   "cell_type": "code",
   "execution_count": null,
   "metadata": {},
   "outputs": [],
   "source": []
  },
  {
   "cell_type": "code",
   "execution_count": null,
   "metadata": {},
   "outputs": [],
   "source": []
  },
  {
   "cell_type": "markdown",
   "metadata": {},
   "source": [
    "### 1. Missing Value Imputation"
   ]
  },
  {
   "cell_type": "code",
   "execution_count": 3,
   "metadata": {},
   "outputs": [
    {
     "data": {
      "text/plain": [
       "HispanicOrigin    874\n",
       "targetIncome        0\n",
       "Race                0\n",
       "Dividends           0\n",
       "CapitalLoss         0\n",
       "dtype: int64"
      ]
     },
     "execution_count": 3,
     "metadata": {},
     "output_type": "execute_result"
    }
   ],
   "source": [
    "censusDf.isnull().sum().sort_values(ascending=False).head()"
   ]
  },
  {
   "cell_type": "code",
   "execution_count": 4,
   "metadata": {
    "scrolled": true
   },
   "outputs": [
    {
     "name": "stdout",
     "output_type": "stream",
     "text": [
      "<class 'pandas.core.frame.DataFrame'>\n",
      "RangeIndex: 199523 entries, 0 to 199522\n",
      "Data columns (total 42 columns):\n",
      "Age                          199523 non-null int64\n",
      "ClassOfWorker                199523 non-null object\n",
      "Industry                     199523 non-null int64\n",
      "Occupation                   199523 non-null int64\n",
      "Education                    199523 non-null object\n",
      "WagePerHr                    199523 non-null int64\n",
      "EducationalInst              199523 non-null object\n",
      "MaritalStatus                199523 non-null object\n",
      "IndustryCode                 199523 non-null object\n",
      "OccupationCode               199523 non-null object\n",
      "Race                         199523 non-null object\n",
      "HispanicOrigin               198649 non-null object\n",
      "Sex                          199523 non-null object\n",
      "MemLabourUnion               199523 non-null object\n",
      "UnemploymentReason           199523 non-null object\n",
      "EmploymentStatus             199523 non-null object\n",
      "CapitalGain                  199523 non-null int64\n",
      "CapitalLoss                  199523 non-null int64\n",
      "Dividends                    199523 non-null int64\n",
      "FEDERALTAX                   199523 non-null object\n",
      "TaxFilerStat                 199523 non-null object\n",
      "PrevState                    199523 non-null object\n",
      "HouseholdStatus              199523 non-null object\n",
      "HouseholdSummary             199523 non-null object\n",
      "INSTANCEWEIGHT               199523 non-null float64\n",
      "MigrationCode_MSA            199523 non-null object\n",
      "MigrationCode_REG            199523 non-null object\n",
      "MigrationCode_WITHIN_REG     199523 non-null object\n",
      "HouseOneYearAgo              199523 non-null object\n",
      "MigrationPrevResInSunbelt    199523 non-null object\n",
      "NumOfPersonForEmployer       199523 non-null int64\n",
      "Parent                       199523 non-null object\n",
      "BirthCountryFather           199523 non-null object\n",
      "BirthCountryMother           199523 non-null object\n",
      "BirthCountrySelf             199523 non-null object\n",
      "Citizenship                  199523 non-null object\n",
      "OwnBusiness                  199523 non-null int64\n",
      "VeteranQA                    199523 non-null object\n",
      "VeteranBenefits              199523 non-null int64\n",
      "WeeksWorked                  199523 non-null int64\n",
      "Year                         199523 non-null int64\n",
      "targetIncome                 199523 non-null object\n",
      "dtypes: float64(1), int64(12), object(29)\n",
      "memory usage: 63.9+ MB\n"
     ]
    }
   ],
   "source": [
    "# information about the variables\n",
    "censusDf.info()"
   ]
  },
  {
   "cell_type": "markdown",
   "metadata": {},
   "source": [
    "* We can observe from the above statistics that, there are no missing values in numerical columns of the dataset. \n",
    "* There is only one column in which there are 874 missing values, which is 'HispanicOrigin'.\n",
    "* From the first five lines of dataframe displayed above we saw that there are some garbage/missing values in the dataframe labelled as '?', lets try to track them."
   ]
  },
  {
   "cell_type": "code",
   "execution_count": 5,
   "metadata": {},
   "outputs": [
    {
     "name": "stdout",
     "output_type": "stream",
     "text": [
      "?    708\n",
      "Name: PrevState, dtype: int64\n",
      "?    99696\n",
      "Name: MigrationCode_MSA, dtype: int64\n",
      "?    99696\n",
      "Name: MigrationCode_REG, dtype: int64\n",
      "?    99696\n",
      "Name: MigrationCode_WITHIN_REG, dtype: int64\n",
      "?    99696\n",
      "Name: MigrationPrevResInSunbelt, dtype: int64\n",
      "?    6713\n",
      "Name: BirthCountryFather, dtype: int64\n",
      "?    6119\n",
      "Name: BirthCountryMother, dtype: int64\n",
      "?    3393\n",
      "Name: BirthCountrySelf, dtype: int64\n"
     ]
    }
   ],
   "source": [
    "# There are lot of '?' appearing in the dataset lets track them\n",
    "for i in censusDf.columns:\n",
    "    if '?' in list(censusDf[i]):\n",
    "        print(censusDf.loc[censusDf[i].isin(['?'])][i].value_counts())"
   ]
  },
  {
   "cell_type": "markdown",
   "metadata": {},
   "source": [
    "The above missing values does not makes much sense if we substitute them, as they are nominal values. Let us label all the above missing values as 'Unavailable'. Also there are four columns in which there almost 50% of the values which are '?', it is better to drop those columns, as high proportion of missing values can be misleading."
   ]
  },
  {
   "cell_type": "code",
   "execution_count": 6,
   "metadata": {},
   "outputs": [],
   "source": [
    "# Dropping the columns with missing values more than 50% and storing in a new dataframe\n",
    "censusDf_cleaned = censusDf.drop(['MigrationCode_MSA', 'MigrationCode_REG', \n",
    "                                  'MigrationCode_WITHIN_REG', \n",
    "                                  'MigrationPrevResInSunbelt'], axis=1)\n",
    "\n",
    "# Replacing the '?' with the label 'Unavailable'\n",
    "censusDf_cleaned = censusDf_cleaned.replace('?', 'Unavailable')"
   ]
  },
  {
   "cell_type": "code",
   "execution_count": null,
   "metadata": {},
   "outputs": [],
   "source": []
  },
  {
   "cell_type": "code",
   "execution_count": 7,
   "metadata": {},
   "outputs": [
    {
     "name": "stdout",
     "output_type": "stream",
     "text": [
      "Unavailable    708\n",
      "Name: PrevState, dtype: int64\n",
      "Unavailable    6713\n",
      "Name: BirthCountryFather, dtype: int64\n",
      "Unavailable    6119\n",
      "Name: BirthCountryMother, dtype: int64\n",
      "Unavailable    3393\n",
      "Name: BirthCountrySelf, dtype: int64\n"
     ]
    }
   ],
   "source": [
    "for i in censusDf_cleaned.columns:\n",
    "    if 'Unavailable' in list(censusDf_cleaned[i]):\n",
    "        print(censusDf_cleaned.loc[censusDf_cleaned[i].isin(['Unavailable'])][i].value_counts())"
   ]
  },
  {
   "cell_type": "markdown",
   "metadata": {},
   "source": [
    "* As we saw earlier, for the caolumn 'HispanicOrigin' we have few (874) missing values; lets see how the values are distributed in the column, so that we can impute the missing values."
   ]
  },
  {
   "cell_type": "code",
   "execution_count": 8,
   "metadata": {},
   "outputs": [
    {
     "data": {
      "text/plain": [
       "All other                    171907\n",
       "Mexican-American               8079\n",
       "Mexican (Mexicano)             7234\n",
       "Central or South American      3895\n",
       "Puerto Rican                   3313\n",
       "Other Spanish                  2485\n",
       "Cuban                          1126\n",
       "Do not know                     306\n",
       "Chicano                         304\n",
       "Name: HispanicOrigin, dtype: int64"
      ]
     },
     "execution_count": 8,
     "metadata": {},
     "output_type": "execute_result"
    }
   ],
   "source": [
    "censusDf_cleaned['HispanicOrigin'].value_counts().sort_values(ascending=False)"
   ]
  },
  {
   "cell_type": "markdown",
   "metadata": {},
   "source": [
    "Most of the values (86%) is 'All other', its better to replace the missing values with this one, as all other values are in insignificant numbers."
   ]
  },
  {
   "cell_type": "code",
   "execution_count": 9,
   "metadata": {},
   "outputs": [],
   "source": [
    "# store the missing value in a variable\n",
    "missing_val = censusDf_cleaned[censusDf_cleaned.isnull()]['HispanicOrigin'].iloc[1]\n",
    "# replace the missing values\n",
    "censusDf_cleaned['HispanicOrigin'] = censusDf_cleaned['HispanicOrigin'].replace(\n",
    "    missing_val, 'All other')"
   ]
  },
  {
   "cell_type": "markdown",
   "metadata": {},
   "source": [
    "##### **Check for missing values one last time.**"
   ]
  },
  {
   "cell_type": "code",
   "execution_count": 10,
   "metadata": {},
   "outputs": [
    {
     "data": {
      "text/plain": [
       "targetIncome          0\n",
       "OccupationCode        0\n",
       "CapitalGain           0\n",
       "EmploymentStatus      0\n",
       "UnemploymentReason    0\n",
       "dtype: int64"
      ]
     },
     "execution_count": 10,
     "metadata": {},
     "output_type": "execute_result"
    }
   ],
   "source": [
    "# Check for missing values\n",
    "censusDf_cleaned.isnull().sum().sort_values(ascending=False).head()"
   ]
  },
  {
   "cell_type": "markdown",
   "metadata": {},
   "source": [
    "> Now there are no missing values in the dataset."
   ]
  },
  {
   "cell_type": "code",
   "execution_count": null,
   "metadata": {},
   "outputs": [],
   "source": []
  },
  {
   "cell_type": "code",
   "execution_count": null,
   "metadata": {},
   "outputs": [],
   "source": []
  },
  {
   "cell_type": "code",
   "execution_count": null,
   "metadata": {},
   "outputs": [],
   "source": []
  },
  {
   "cell_type": "markdown",
   "metadata": {},
   "source": [
    "### 2. Feature Engineering"
   ]
  },
  {
   "cell_type": "code",
   "execution_count": null,
   "metadata": {},
   "outputs": [],
   "source": []
  },
  {
   "cell_type": "code",
   "execution_count": 11,
   "metadata": {},
   "outputs": [
    {
     "name": "stdout",
     "output_type": "stream",
     "text": [
      "True\n",
      "X (predictors) is  199523 rows, 37 columns, and...\n",
      "Y (response) is  199523 rows.\n"
     ]
    }
   ],
   "source": [
    "# Categorizing the columns\n",
    "\n",
    "# Continuous Features\n",
    "ordinalFeatures = ['Age', 'WagePerHr', 'CapitalGain', 'CapitalLoss','Dividends', \n",
    "     'INSTANCEWEIGHT', 'NumOfPersonForEmployer', 'WeeksWorked']\n",
    "\n",
    "# Nominal Features\n",
    "nominalFeatures = ['ClassOfWorker', 'Industry', 'Occupation', 'Education', \n",
    "                  'EducationalInst', 'MaritalStatus', 'IndustryCode', 'OccupationCode',\n",
    "                  'Race', 'HispanicOrigin', 'Sex', 'MemLabourUnion', \n",
    "                  'UnemploymentReason', 'EmploymentStatus','FEDERALTAX', \n",
    "                   'TaxFilerStat', 'PrevState', 'HouseholdStatus', \n",
    "                  'HouseholdSummary', 'LiveInHouse',\n",
    "                  'Parent', 'BirthCountryFather', 'BirthCountryMother',\n",
    "                  'BirthCountrySelf', 'Citizenship', 'OwnBusiness', 'VeteranQA', 'VeteranBenefits', \n",
    "                  'Year', 'targetIncome']\n",
    "\n",
    "# Replacing the 'targetIncome' values with dummy variables\n",
    "# - 50000. as the baseline. 0 for - 50000. and 1 for 50000+.\n",
    "censusDf_cleaned['targetIncome'] = pd.get_dummies(censusDf_cleaned.targetIncome).iloc[:,1:]\n",
    "\n",
    "# Check the features\n",
    "print(len(censusDf_cleaned.columns) == len(ordinalFeatures) + len(nominalFeatures))\n",
    "\n",
    "# Features and Outcome\n",
    "X = censusDf_cleaned.drop('targetIncome',1)\n",
    "Y = censusDf_cleaned.targetIncome\n",
    "print(\"X (predictors) is \",X.shape[0],\"rows,\", X.shape[1],\"columns, and...\"\\\n",
    "      \"\\nY (response) is \",Y.shape[0],\"rows.\")\n"
   ]
  },
  {
   "cell_type": "markdown",
   "metadata": {},
   "source": [
    "##### **Let us check the categorical variables in for each feature, and decide which one to  use in our model.**"
   ]
  },
  {
   "cell_type": "code",
   "execution_count": 12,
   "metadata": {
    "scrolled": true
   },
   "outputs": [
    {
     "name": "stdout",
     "output_type": "stream",
     "text": [
      "NUMBER OF UNIQUE VALUES IN EACH FEATURE:\n",
      "\n",
      "'ClassOfWorker' has --> 9        \n",
      "'Education' has --> 17        \n",
      "'EducationalInst' has --> 3        \n",
      "'MaritalStatus' has --> 7        \n",
      "'IndustryCode' has --> 24        \n",
      "'OccupationCode' has --> 15        \n",
      "'Race' has --> 5        \n",
      "'HispanicOrigin' has --> 9        \n",
      "'Sex' has --> 2        \n",
      "'MemLabourUnion' has --> 3        \n",
      "'UnemploymentReason' has --> 6        \n",
      "'EmploymentStatus' has --> 8        \n",
      "'FEDERALTAX' has --> 6        \n",
      "'TaxFilerStat' has --> 6        \n",
      "'PrevState' has --> 51        \n",
      "'HouseholdStatus' has --> 38        \n",
      "'HouseholdSummary' has --> 8        \n",
      "'HouseOneYearAgo' has --> 3        \n",
      "'Parent' has --> 5        \n",
      "'BirthCountryFather' has --> 43        \n",
      "'BirthCountryMother' has --> 43        \n",
      "'BirthCountrySelf' has --> 43        \n",
      "'Citizenship' has --> 5        \n",
      "'VeteranQA' has --> 3        \n"
     ]
    }
   ],
   "source": [
    "# Print out number of unique categorical values in each column\n",
    "print(\"NUMBER OF UNIQUE VALUES IN EACH FEATURE:\\n\")\n",
    "for col_name in X.columns:\n",
    "    if X[col_name].dtype == 'object':\n",
    "        unique_val = len(X[col_name].unique())\n",
    "        print(\"'{col_name}' has --> {unique_val}\\\n",
    "        \".format(col_name=col_name, unique_val=unique_val))"
   ]
  },
  {
   "cell_type": "markdown",
   "metadata": {},
   "source": [
    "##### It looks like the columns 'BirthCountryFather', 'BirthCountryMother' and 'BirthCountrySelf' have same number of unique values. Let us keep only one column, and drop the other two."
   ]
  },
  {
   "cell_type": "code",
   "execution_count": 13,
   "metadata": {},
   "outputs": [],
   "source": [
    "# Dropping the columns\n",
    "X = X.drop(['BirthCountryFather', 'BirthCountryMother'], axis=1)\n",
    "# renaming\n",
    "X.rename(columns={'BirthCountrySelf': 'BirthCountry'}, inplace=True)"
   ]
  },
  {
   "cell_type": "code",
   "execution_count": 14,
   "metadata": {
    "scrolled": true
   },
   "outputs": [
    {
     "data": {
      "text/plain": [
       "United-States         176989\n",
       "Mexico                  5767\n",
       "Unavailable             3393\n",
       "Puerto-Rico             1400\n",
       "Germany                  851\n",
       "Philippines              845\n",
       "Cuba                     837\n",
       "Canada                   700\n",
       "Dominican-Republic       690\n",
       "El-Salvador              689\n",
       "Name: BirthCountry, dtype: int64"
      ]
     },
     "execution_count": 14,
     "metadata": {},
     "output_type": "execute_result"
    }
   ],
   "source": [
    "# Although, 'BirthCountry' has a lot of unique categories, ...\n",
    "# ...most categories only have a few observations if compared to max (United-States)\n",
    "X['BirthCountry'].value_counts().sort_values(ascending=False).head(10)"
   ]
  },
  {
   "cell_type": "code",
   "execution_count": 15,
   "metadata": {},
   "outputs": [
    {
     "data": {
      "text/plain": [
       "United-States      176989\n",
       "Other-Countries     22534\n",
       "Name: BirthCountry, dtype: int64"
      ]
     },
     "execution_count": 15,
     "metadata": {},
     "output_type": "execute_result"
    }
   ],
   "source": [
    "# In this case, bucket low frequecy categories as \"Other\"\n",
    "X['BirthCountry'] = ['United-States' if x == 'United-States' \n",
    "                       else 'Other-Countries' for x in X['BirthCountry']]\n",
    "# check the values\n",
    "X['BirthCountry'].value_counts().sort_values(ascending=False)"
   ]
  },
  {
   "cell_type": "markdown",
   "metadata": {},
   "source": [
    "##### The column 'HouseholdStatus' has 38 unique values; only few of the categories have significant number of observations."
   ]
  },
  {
   "cell_type": "code",
   "execution_count": 16,
   "metadata": {
    "scrolled": false
   },
   "outputs": [
    {
     "data": {
      "text/plain": [
       "Householder                                        53248\n",
       "Child <18 never marr not in subfamily              50326\n",
       "Spouse of householder                              41695\n",
       "Nonfamily householder                              22213\n",
       "Child 18+ never marr Not in a subfamily            12030\n",
       "Secondary individual                                6122\n",
       "Other Rel 18+ ever marr not in subfamily            1956\n",
       "Grandchild <18 never marr child of subfamily RP     1868\n",
       "Other Rel 18+ never marr not in subfamily           1728\n",
       "Grandchild <18 never marr not in subfamily          1066\n",
       "Name: HouseholdStatus, dtype: int64"
      ]
     },
     "execution_count": 16,
     "metadata": {},
     "output_type": "execute_result"
    }
   ],
   "source": [
    "# Check the value counts\n",
    "X['HouseholdStatus'].value_counts().sort_values(ascending=False).head(10)"
   ]
  },
  {
   "cell_type": "markdown",
   "metadata": {},
   "source": [
    "It is better to categorize the values as other, which does not have significant count."
   ]
  },
  {
   "cell_type": "code",
   "execution_count": 17,
   "metadata": {},
   "outputs": [
    {
     "data": {
      "text/plain": [
       "Householder           53248\n",
       "Children              50326\n",
       "Spouse                41695\n",
       "Nonfamily             22213\n",
       "Other_Householders    13889\n",
       "Child_18_plus         12030\n",
       "Secondary_indv         6122\n",
       "Name: HouseholdStatus, dtype: int64"
      ]
     },
     "execution_count": 17,
     "metadata": {},
     "output_type": "execute_result"
    }
   ],
   "source": [
    "# Bucket the low frequency category as other\n",
    "X['HouseholdStatus'] = ['Householder' if x == 'Householder'\n",
    "                        else 'Children' if x == 'Child <18 never marr not in subfamily'\n",
    "                        else 'Spouse' if x == 'Spouse of householder'\n",
    "                        else 'Nonfamily' if x == 'Nonfamily householder'\n",
    "                        else 'Child_18_plus' if x == 'Child 18+ never marr Not in a subfamily'\n",
    "                        else 'Secondary_indv' if x == 'Secondary individual'\n",
    "                       else 'Other_Householders' for x in X['HouseholdStatus']]\n",
    "# check the values\n",
    "X['HouseholdStatus'].value_counts().sort_values(ascending=False)"
   ]
  },
  {
   "cell_type": "markdown",
   "metadata": {},
   "source": [
    "##### Lets check the 'PrevState' column, there are 51, unique values for the feature, lets see what are they."
   ]
  },
  {
   "cell_type": "code",
   "execution_count": 34,
   "metadata": {},
   "outputs": [
    {
     "data": {
      "text/plain": [
       "Not in universe    183750\n",
       "California           1714\n",
       "Utah                 1063\n",
       "Florida               849\n",
       "North Carolina        812\n",
       "Unavailable           708\n",
       "Abroad                671\n",
       "Oklahoma              626\n",
       "Minnesota             576\n",
       "Indiana               533\n",
       "Name: PrevState, dtype: int64"
      ]
     },
     "execution_count": 34,
     "metadata": {},
     "output_type": "execute_result"
    }
   ],
   "source": [
    "# Check the value counts\n",
    "X['PrevState'].value_counts().sort_values(ascending=False).head(10)"
   ]
  },
  {
   "cell_type": "markdown",
   "metadata": {},
   "source": [
    "With approximately 200,000 rows in our dataset, there are almost 184,000 values for the 'PrevState' column, that say 'Not in universe', which is almost 96% of the entire row, have this much small information about the sate doesn't seem to be helpful, it is better that we drop this feature from our predictors variables list."
   ]
  },
  {
   "cell_type": "code",
   "execution_count": 36,
   "metadata": {},
   "outputs": [],
   "source": [
    "# Dropping the columns\n",
    "X = X.drop(['PrevState'], axis=1)"
   ]
  },
  {
   "cell_type": "code",
   "execution_count": 43,
   "metadata": {},
   "outputs": [
    {
     "data": {
      "text/plain": [
       "Index(['Age', 'ClassOfWorker', 'Industry', 'Occupation', 'Education',\n",
       "       'WagePerHr', 'EducationalInst', 'MaritalStatus', 'IndustryCode',\n",
       "       'OccupationCode', 'Race', 'HispanicOrigin', 'Sex', 'MemLabourUnion',\n",
       "       'UnemploymentReason', 'EmploymentStatus', 'CapitalGain', 'CapitalLoss',\n",
       "       'Dividends', 'FEDERALTAX', 'TaxFilerStat', 'HouseholdStatus',\n",
       "       'HouseholdSummary', 'INSTANCEWEIGHT', 'HouseOneYearAgo',\n",
       "       'NumOfPersonForEmployer', 'Parent', 'BirthCountry', 'Citizenship',\n",
       "       'OwnBusiness', 'VeteranQA', 'VeteranBenefits', 'WeeksWorked', 'Year'],\n",
       "      dtype='object')"
      ]
     },
     "execution_count": 43,
     "metadata": {},
     "output_type": "execute_result"
    }
   ],
   "source": [
    "X.columns"
   ]
  },
  {
   "cell_type": "code",
   "execution_count": null,
   "metadata": {},
   "outputs": [],
   "source": []
  },
  {
   "cell_type": "code",
   "execution_count": 48,
   "metadata": {},
   "outputs": [
    {
     "name": "stdout",
     "output_type": "stream",
     "text": [
      "\n",
      "For column Age : \n",
      "34    3489\n",
      "35    3450\n",
      "36    3353\n",
      "31    3351\n",
      "33    3340\n",
      "Name: Age, dtype: int64\n",
      "\n",
      "For column ClassOfWorker : \n",
      "'ClassOfWorker' has --> 9 unique features        \n",
      "Not in universe                   100245\n",
      "Private                            72028\n",
      "Self-employed-not incorporated      8445\n",
      "Local government                    7784\n",
      "State government                    4227\n",
      "Name: ClassOfWorker, dtype: int64\n",
      "\n",
      "For column Industry : \n",
      "0     100684\n",
      "33     17070\n",
      "43      8283\n",
      "4       5984\n",
      "42      4683\n",
      "Name: Industry, dtype: int64\n",
      "\n",
      "For column Occupation : \n",
      "0     100684\n",
      "2       8756\n",
      "26      7887\n",
      "19      5413\n",
      "29      5105\n",
      "Name: Occupation, dtype: int64\n",
      "\n",
      "For column Education : \n",
      "'Education' has --> 17 unique features        \n",
      "High school graduate          48407\n",
      "Children                      47422\n",
      "Some college but no degree    27820\n",
      "Bachelors degree(BA AB BS)    19865\n",
      "7th and 8th grade              8007\n",
      "Name: Education, dtype: int64\n",
      "\n",
      "For column WagePerHr : \n",
      "0      188219\n",
      "500       734\n",
      "600       546\n",
      "700       534\n",
      "800       507\n",
      "Name: WagePerHr, dtype: int64\n",
      "\n",
      "For column EducationalInst : \n",
      "'EducationalInst' has --> 3 unique features        \n",
      "Not in universe          186943\n",
      "High school                6892\n",
      "College or university      5688\n",
      "Name: EducationalInst, dtype: int64\n",
      "\n",
      "For column MaritalStatus : \n",
      "'MaritalStatus' has --> 7 unique features        \n",
      "Never married                      86485\n",
      "Married-civilian spouse present    84222\n",
      "Divorced                           12710\n",
      "Widowed                            10463\n",
      "Separated                           3460\n",
      "Name: MaritalStatus, dtype: int64\n",
      "\n",
      "For column IndustryCode : \n",
      "'IndustryCode' has --> 24 unique features        \n",
      "Not in universe or children       100684\n",
      "Retail trade                       17070\n",
      "Manufacturing-durable goods         9015\n",
      "Education                           8283\n",
      "Manufacturing-nondurable goods      6897\n",
      "Name: IndustryCode, dtype: int64\n",
      "\n",
      "For column OccupationCode : \n",
      "'OccupationCode' has --> 15 unique features        \n",
      "Not in universe                   100684\n",
      "Adm support including clerical     14837\n",
      "Professional specialty             13940\n",
      "Executive admin and managerial     12495\n",
      "Other service                      12099\n",
      "Name: OccupationCode, dtype: int64\n",
      "\n",
      "For column Race : \n",
      "'Race' has --> 5 unique features        \n",
      "White                          167365\n",
      "Black                           20415\n",
      "Asian or Pacific Islander        5835\n",
      "Other                            3657\n",
      "Amer Indian Aleut or Eskimo      2251\n",
      "Name: Race, dtype: int64\n",
      "\n",
      "For column HispanicOrigin : \n",
      "'HispanicOrigin' has --> 9 unique features        \n",
      "All other                    172781\n",
      "Mexican-American               8079\n",
      "Mexican (Mexicano)             7234\n",
      "Central or South American      3895\n",
      "Puerto Rican                   3313\n",
      "Name: HispanicOrigin, dtype: int64\n",
      "\n",
      "For column Sex : \n",
      "'Sex' has --> 2 unique features        \n",
      "Female    103984\n",
      "Male       95539\n",
      "Name: Sex, dtype: int64\n",
      "\n",
      "For column MemLabourUnion : \n",
      "'MemLabourUnion' has --> 3 unique features        \n",
      "Not in universe    180459\n",
      "No                  16034\n",
      "Yes                  3030\n",
      "Name: MemLabourUnion, dtype: int64\n",
      "\n",
      "For column UnemploymentReason : \n",
      "'UnemploymentReason' has --> 6 unique features        \n",
      "Not in universe          193453\n",
      "Other job loser            2038\n",
      "Re-entrant                 2019\n",
      "Job loser - on layoff       976\n",
      "Job leaver                  598\n",
      "Name: UnemploymentReason, dtype: int64\n",
      "\n",
      "For column EmploymentStatus : \n",
      "'EmploymentStatus' has --> 8 unique features        \n",
      "Children or Armed Forces              123769\n",
      "Full-time schedules                    40736\n",
      "Not in labor force                     26808\n",
      "PT for non-econ reasons usually FT      3322\n",
      "Unemployed full-time                    2311\n",
      "Name: EmploymentStatus, dtype: int64\n",
      "\n",
      "For column CapitalGain : \n",
      "0        192144\n",
      "15024       788\n",
      "7688        609\n",
      "7298        582\n",
      "99999       390\n",
      "Name: CapitalGain, dtype: int64\n",
      "\n",
      "For column CapitalLoss : \n",
      "0       195617\n",
      "1902       407\n",
      "1977       381\n",
      "1887       364\n",
      "1602       193\n",
      "Name: CapitalLoss, dtype: int64\n",
      "\n",
      "For column Dividends : \n",
      "0       178382\n",
      "100       1148\n",
      "500       1030\n",
      "1000       894\n",
      "200        866\n",
      "Name: Dividends, dtype: int64\n",
      "\n",
      "For column FEDERALTAX : \n",
      "'FEDERALTAX' has --> 6 unique features        \n",
      "Nonfiler               75094\n",
      "Joint both under 65    67383\n",
      "Single                 37421\n",
      "Joint both 65+          8332\n",
      "Head of household       7426\n",
      "Name: FEDERALTAX, dtype: int64\n",
      "\n",
      "For column TaxFilerStat : \n",
      "'TaxFilerStat' has --> 6 unique features        \n",
      "Not in universe    183750\n",
      "South                4889\n",
      "West                 4074\n",
      "Midwest              3575\n",
      "Northeast            2705\n",
      "Name: TaxFilerStat, dtype: int64\n",
      "\n",
      "For column HouseholdStatus : \n",
      "'HouseholdStatus' has --> 7 unique features        \n",
      "Householder           53248\n",
      "Children              50326\n",
      "Spouse                41695\n",
      "Nonfamily             22213\n",
      "Other_Householders    13889\n",
      "Name: HouseholdStatus, dtype: int64\n",
      "\n",
      "For column HouseholdSummary : \n",
      "'HouseholdSummary' has --> 8 unique features        \n",
      "Householder                      75475\n",
      "Child under 18 never married     50426\n",
      "Spouse of householder            41709\n",
      "Child 18 or older                14430\n",
      "Other relative of householder     9703\n",
      "Name: HouseholdSummary, dtype: int64\n",
      "\n",
      "For column INSTANCEWEIGHT : \n",
      "1601.40    32\n",
      "753.23     32\n",
      "1191.21    32\n",
      "1787.34    32\n",
      "707.90     31\n",
      "Name: INSTANCEWEIGHT, dtype: int64\n",
      "\n",
      "For column HouseOneYearAgo : \n",
      "'HouseOneYearAgo' has --> 3 unique features        \n",
      "Not in universe under 1 year old    101212\n",
      "Yes                                  82538\n",
      "No                                   15773\n",
      "Name: HouseOneYearAgo, dtype: int64\n",
      "\n",
      "For column NumOfPersonForEmployer : \n",
      "0    95983\n",
      "6    36511\n",
      "1    23109\n",
      "4    14379\n",
      "3    13425\n",
      "Name: NumOfPersonForEmployer, dtype: int64\n",
      "\n",
      "For column Parent : \n",
      "'Parent' has --> 5 unique features        \n",
      "Not in universe           144232\n",
      "Both parents present       38983\n",
      "Mother only present        12772\n",
      "Father only present         1883\n",
      "Neither parent present      1653\n",
      "Name: Parent, dtype: int64\n",
      "\n",
      "For column BirthCountry : \n",
      "'BirthCountry' has --> 2 unique features        \n",
      "United-States      176989\n",
      "Other-Countries     22534\n",
      "Name: BirthCountry, dtype: int64\n",
      "\n",
      "For column Citizenship : \n",
      "'Citizenship' has --> 5 unique features        \n",
      "Native- Born in the United States              176992\n",
      "Foreign born- Not a citizen of U S              13401\n",
      "Foreign born- U S citizen by naturalization      5855\n",
      "Native- Born abroad of American Parent(s)        1756\n",
      "Native- Born in Puerto Rico or U S Outlying      1519\n",
      "Name: Citizenship, dtype: int64\n",
      "\n",
      "For column OwnBusiness : \n",
      "0    180672\n",
      "2     16153\n",
      "1      2698\n",
      "Name: OwnBusiness, dtype: int64\n",
      "\n",
      "For column VeteranQA : \n",
      "'VeteranQA' has --> 3 unique features        \n",
      "Not in universe    197539\n",
      "No                   1593\n",
      "Yes                   391\n",
      "Name: VeteranQA, dtype: int64\n",
      "\n",
      "For column VeteranBenefits : \n",
      "2    150130\n",
      "0     47409\n",
      "1      1984\n",
      "Name: VeteranBenefits, dtype: int64\n",
      "\n",
      "For column WeeksWorked : \n",
      "0     95983\n",
      "52    70314\n",
      "40     2790\n",
      "50     2304\n",
      "26     2268\n",
      "Name: WeeksWorked, dtype: int64\n",
      "\n",
      "For column Year : \n",
      "94    99827\n",
      "95    99696\n",
      "Name: Year, dtype: int64\n"
     ]
    }
   ],
   "source": [
    "# Printing the top variables\n",
    "for col_name in X.columns:\n",
    "    print(\"\\nFor column %s : \" %col_name)\n",
    "    if X[col_name].dtype == 'object':\n",
    "        unique_val = len(X[col_name].unique())\n",
    "        print(\"'{col_name}' has --> {unique_val} unique features\\\n",
    "        \".format(col_name=col_name, unique_val=unique_val))\n",
    "    print(X[col_name].value_counts().sort_values(ascending=False).head())"
   ]
  },
  {
   "cell_type": "code",
   "execution_count": null,
   "metadata": {},
   "outputs": [],
   "source": []
  },
  {
   "cell_type": "code",
   "execution_count": null,
   "metadata": {},
   "outputs": [],
   "source": []
  },
  {
   "cell_type": "code",
   "execution_count": null,
   "metadata": {},
   "outputs": [],
   "source": []
  },
  {
   "cell_type": "code",
   "execution_count": null,
   "metadata": {},
   "outputs": [],
   "source": []
  },
  {
   "cell_type": "code",
   "execution_count": null,
   "metadata": {},
   "outputs": [],
   "source": []
  },
  {
   "cell_type": "code",
   "execution_count": null,
   "metadata": {},
   "outputs": [],
   "source": []
  },
  {
   "cell_type": "code",
   "execution_count": null,
   "metadata": {},
   "outputs": [],
   "source": []
  },
  {
   "cell_type": "code",
   "execution_count": null,
   "metadata": {},
   "outputs": [],
   "source": []
  },
  {
   "cell_type": "code",
   "execution_count": null,
   "metadata": {},
   "outputs": [],
   "source": []
  },
  {
   "cell_type": "markdown",
   "metadata": {},
   "source": [
    "## Problem Statement"
   ]
  },
  {
   "cell_type": "markdown",
   "metadata": {},
   "source": [
    ">From the various features in the census data set our aim is to build a predictive model to determine whether the income level for the people in United States exceeds the bracket of $50,000."
   ]
  },
  {
   "cell_type": "markdown",
   "metadata": {},
   "source": [
    "## Hypothesis Generation"
   ]
  },
  {
   "cell_type": "markdown",
   "metadata": {},
   "source": [
    "From our problem statement is clear that it is a binary classification problem.\n",
    "\n",
    "Let us generate some hypotheses which will help us in building the models more efficiently. We need to figure out some hypotheses which might influence our final outcome, hence we need to answer a simple question.\n",
    "\n",
    "**Is There a Relationship Between the Response and Predictors?**\n",
    "\n",
    "To test this we use the test between the Null Hypothesis $H_0$ versus the Alternate Hypothesis $H_a$.\n",
    "* $H_0$ : There is no relationship between the response Income and the predictors.\n",
    "    * To test the Null Hypothesis we test whether all the regression coefficients are zero.\n",
    "* $H_a$ : There is some realtionship between the response and the predictors.\n",
    "    * To test the Alternate Hypothesis we find  at least one coefficient that is non-zero.\n",
    "    \n",
    "*To perform the Hypothesis tests we will be performing multivariate linear regression on ordinal values of the dataset using **statsmodels** library.*\n"
   ]
  },
  {
   "cell_type": "code",
   "execution_count": 18,
   "metadata": {},
   "outputs": [
    {
     "data": {
      "text/html": [
       "<table class=\"simpletable\">\n",
       "<caption>OLS Regression Results</caption>\n",
       "<tr>\n",
       "  <th>Dep. Variable:</th>      <td>targetIncome</td>   <th>  R-squared:         </th>  <td>   0.195</td> \n",
       "</tr>\n",
       "<tr>\n",
       "  <th>Model:</th>                   <td>OLS</td>       <th>  Adj. R-squared:    </th>  <td>   0.195</td> \n",
       "</tr>\n",
       "<tr>\n",
       "  <th>Method:</th>             <td>Least Squares</td>  <th>  F-statistic:       </th>  <td>   3710.</td> \n",
       "</tr>\n",
       "<tr>\n",
       "  <th>Date:</th>             <td>Wed, 15 Nov 2017</td> <th>  Prob (F-statistic):</th>   <td>  0.00</td>  \n",
       "</tr>\n",
       "<tr>\n",
       "  <th>Time:</th>                 <td>21:11:48</td>     <th>  Log-Likelihood:    </th>  <td>  22185.</td> \n",
       "</tr>\n",
       "<tr>\n",
       "  <th>No. Observations:</th>      <td>199523</td>      <th>  AIC:               </th> <td>-4.434e+04</td>\n",
       "</tr>\n",
       "<tr>\n",
       "  <th>Df Residuals:</th>          <td>199509</td>      <th>  BIC:               </th> <td>-4.420e+04</td>\n",
       "</tr>\n",
       "<tr>\n",
       "  <th>Df Model:</th>              <td>    13</td>      <th>                     </th>      <td> </td>    \n",
       "</tr>\n",
       "<tr>\n",
       "  <th>Covariance Type:</th>      <td>nonrobust</td>    <th>                     </th>      <td> </td>    \n",
       "</tr>\n",
       "</table>\n",
       "<table class=\"simpletable\">\n",
       "<tr>\n",
       "             <td></td>               <th>coef</th>     <th>std err</th>      <th>t</th>      <th>P>|t|</th>  <th>[0.025</th>    <th>0.975]</th>  \n",
       "</tr>\n",
       "<tr>\n",
       "  <th>Intercept</th>              <td>   -0.4296</td> <td>    0.092</td> <td>   -4.688</td> <td> 0.000</td> <td>   -0.609</td> <td>   -0.250</td>\n",
       "</tr>\n",
       "<tr>\n",
       "  <th>Age</th>                    <td>    0.0010</td> <td> 3.15e-05</td> <td>   32.642</td> <td> 0.000</td> <td>    0.001</td> <td>    0.001</td>\n",
       "</tr>\n",
       "<tr>\n",
       "  <th>Industry</th>               <td>    0.0004</td> <td> 4.23e-05</td> <td>    9.753</td> <td> 0.000</td> <td>    0.000</td> <td>    0.000</td>\n",
       "</tr>\n",
       "<tr>\n",
       "  <th>Occupation</th>             <td>   -0.0040</td> <td> 4.61e-05</td> <td>  -86.916</td> <td> 0.000</td> <td>   -0.004</td> <td>   -0.004</td>\n",
       "</tr>\n",
       "<tr>\n",
       "  <th>WagePerHr</th>              <td>-8.225e-06</td> <td> 1.81e-06</td> <td>   -4.545</td> <td> 0.000</td> <td>-1.18e-05</td> <td>-4.68e-06</td>\n",
       "</tr>\n",
       "<tr>\n",
       "  <th>CapitalGain</th>            <td> 9.776e-06</td> <td> 1.05e-07</td> <td>   93.318</td> <td> 0.000</td> <td> 9.57e-06</td> <td> 9.98e-06</td>\n",
       "</tr>\n",
       "<tr>\n",
       "  <th>CapitalLoss</th>            <td> 9.952e-05</td> <td>  1.8e-06</td> <td>   55.394</td> <td> 0.000</td> <td>  9.6e-05</td> <td>    0.000</td>\n",
       "</tr>\n",
       "<tr>\n",
       "  <th>Dividends</th>              <td> 1.552e-05</td> <td> 2.48e-07</td> <td>   62.566</td> <td> 0.000</td> <td>  1.5e-05</td> <td>  1.6e-05</td>\n",
       "</tr>\n",
       "<tr>\n",
       "  <th>INSTANCEWEIGHT</th>         <td> 2.085e-06</td> <td> 4.89e-07</td> <td>    4.266</td> <td> 0.000</td> <td> 1.13e-06</td> <td> 3.04e-06</td>\n",
       "</tr>\n",
       "<tr>\n",
       "  <th>NumOfPersonForEmployer</th> <td>    0.0085</td> <td>    0.000</td> <td>   26.763</td> <td> 0.000</td> <td>    0.008</td> <td>    0.009</td>\n",
       "</tr>\n",
       "<tr>\n",
       "  <th>OwnBusiness</th>            <td>   -0.0050</td> <td>    0.001</td> <td>   -5.476</td> <td> 0.000</td> <td>   -0.007</td> <td>   -0.003</td>\n",
       "</tr>\n",
       "<tr>\n",
       "  <th>VeteranBenefits</th>        <td>   -0.0191</td> <td>    0.001</td> <td>  -19.676</td> <td> 0.000</td> <td>   -0.021</td> <td>   -0.017</td>\n",
       "</tr>\n",
       "<tr>\n",
       "  <th>WeeksWorked</th>            <td>    0.0032</td> <td> 3.87e-05</td> <td>   83.109</td> <td> 0.000</td> <td>    0.003</td> <td>    0.003</td>\n",
       "</tr>\n",
       "<tr>\n",
       "  <th>Year</th>                   <td>    0.0044</td> <td>    0.001</td> <td>    4.576</td> <td> 0.000</td> <td>    0.003</td> <td>    0.006</td>\n",
       "</tr>\n",
       "</table>\n",
       "<table class=\"simpletable\">\n",
       "<tr>\n",
       "  <th>Omnibus:</th>       <td>119596.189</td> <th>  Durbin-Watson:     </th>  <td>   2.002</td> \n",
       "</tr>\n",
       "<tr>\n",
       "  <th>Prob(Omnibus):</th>   <td> 0.000</td>   <th>  Jarque-Bera (JB):  </th> <td>995579.191</td>\n",
       "</tr>\n",
       "<tr>\n",
       "  <th>Skew:</th>            <td> 2.882</td>   <th>  Prob(JB):          </th>  <td>    0.00</td> \n",
       "</tr>\n",
       "<tr>\n",
       "  <th>Kurtosis:</th>        <td>12.302</td>   <th>  Cond. No.          </th>  <td>8.95e+05</td> \n",
       "</tr>\n",
       "</table>"
      ],
      "text/plain": [
       "<class 'statsmodels.iolib.summary.Summary'>\n",
       "\"\"\"\n",
       "                            OLS Regression Results                            \n",
       "==============================================================================\n",
       "Dep. Variable:           targetIncome   R-squared:                       0.195\n",
       "Model:                            OLS   Adj. R-squared:                  0.195\n",
       "Method:                 Least Squares   F-statistic:                     3710.\n",
       "Date:                Wed, 15 Nov 2017   Prob (F-statistic):               0.00\n",
       "Time:                        21:11:48   Log-Likelihood:                 22185.\n",
       "No. Observations:              199523   AIC:                        -4.434e+04\n",
       "Df Residuals:                  199509   BIC:                        -4.420e+04\n",
       "Df Model:                          13                                         \n",
       "Covariance Type:            nonrobust                                         \n",
       "==========================================================================================\n",
       "                             coef    std err          t      P>|t|      [0.025      0.975]\n",
       "------------------------------------------------------------------------------------------\n",
       "Intercept                 -0.4296      0.092     -4.688      0.000      -0.609      -0.250\n",
       "Age                        0.0010   3.15e-05     32.642      0.000       0.001       0.001\n",
       "Industry                   0.0004   4.23e-05      9.753      0.000       0.000       0.000\n",
       "Occupation                -0.0040   4.61e-05    -86.916      0.000      -0.004      -0.004\n",
       "WagePerHr              -8.225e-06   1.81e-06     -4.545      0.000   -1.18e-05   -4.68e-06\n",
       "CapitalGain             9.776e-06   1.05e-07     93.318      0.000    9.57e-06    9.98e-06\n",
       "CapitalLoss             9.952e-05    1.8e-06     55.394      0.000     9.6e-05       0.000\n",
       "Dividends               1.552e-05   2.48e-07     62.566      0.000     1.5e-05     1.6e-05\n",
       "INSTANCEWEIGHT          2.085e-06   4.89e-07      4.266      0.000    1.13e-06    3.04e-06\n",
       "NumOfPersonForEmployer     0.0085      0.000     26.763      0.000       0.008       0.009\n",
       "OwnBusiness               -0.0050      0.001     -5.476      0.000      -0.007      -0.003\n",
       "VeteranBenefits           -0.0191      0.001    -19.676      0.000      -0.021      -0.017\n",
       "WeeksWorked                0.0032   3.87e-05     83.109      0.000       0.003       0.003\n",
       "Year                       0.0044      0.001      4.576      0.000       0.003       0.006\n",
       "==============================================================================\n",
       "Omnibus:                   119596.189   Durbin-Watson:                   2.002\n",
       "Prob(Omnibus):                  0.000   Jarque-Bera (JB):           995579.191\n",
       "Skew:                           2.882   Prob(JB):                         0.00\n",
       "Kurtosis:                      12.302   Cond. No.                     8.95e+05\n",
       "==============================================================================\n",
       "\n",
       "Warnings:\n",
       "[1] Standard Errors assume that the covariance matrix of the errors is correctly specified.\n",
       "[2] The condition number is large, 8.95e+05. This might indicate that there are\n",
       "strong multicollinearity or other numerical problems.\n",
       "\"\"\""
      ]
     },
     "execution_count": 18,
     "metadata": {},
     "output_type": "execute_result"
    }
   ],
   "source": [
    "# Constructing a linearmodel using the ordinal values for our initial hypothesis test\n",
    "hypothesis_test_model = smf.ols(formula=(\"targetIncome ~ Age + Industry + Occupation + \"\n",
    "             \"WagePerHr + CapitalGain + CapitalLoss + Dividends + \"\n",
    "             \"INSTANCEWEIGHT + NumOfPersonForEmployer + OwnBusiness +\"\n",
    "             \"VeteranBenefits + WeeksWorked + Year\"), data=censusDf_cleaned).fit()\n",
    "\n",
    "# Printing the summary of the model\n",
    "hypothesis_test_model.summary()"
   ]
  },
  {
   "cell_type": "markdown",
   "metadata": {},
   "source": [
    "We can see from the above result that none of the coefficients are zero, also some of the features have significant p-values, which indicates that there is a significant relationship among the predictors and the response. \n",
    "\n",
    "* Hence we reject our Null Hypothesis $H_0$.\n",
    "\n",
    "We should keep in mind that we have not considered all the features for our hypothesis generation, we will explore more about the nominal features as we proceed in the coming sections."
   ]
  },
  {
   "cell_type": "markdown",
   "metadata": {},
   "source": [
    "## Baseline"
   ]
  },
  {
   "cell_type": "markdown",
   "metadata": {},
   "source": [
    "In order to evaluate our model we should define some baseline. Let us generate some statistics about our response variable so that we can set our baseline."
   ]
  },
  {
   "cell_type": "code",
   "execution_count": 19,
   "metadata": {},
   "outputs": [
    {
     "name": "stdout",
     "output_type": "stream",
     "text": [
      "0    187141\n",
      "1     12382\n",
      "Name: targetIncome, dtype: int64\n",
      "93.79419916500854 % people have income below $50000.\n"
     ]
    }
   ],
   "source": [
    "# Getting the count\n",
    "incomeCount = censusDf_cleaned['targetIncome'].value_counts()\n",
    "print(incomeCount)\n",
    "\n",
    "# Getting the proportion of data having -50000 as response\n",
    "print(float(incomeCount[0]/len(censusDf_cleaned['targetIncome']))*100,\n",
    "     \"% people have income below $50000.\")"
   ]
  },
  {
   "cell_type": "markdown",
   "metadata": {},
   "source": [
    "Most of the values are 0 in the responce variable, Income. Which means that the dataset is heavily skewed towards having income less than \\$50,000. Which means that if we predict only below \\$50,000, still our model accuracy would be **93.79%**."
   ]
  },
  {
   "cell_type": "code",
   "execution_count": null,
   "metadata": {},
   "outputs": [],
   "source": []
  },
  {
   "cell_type": "code",
   "execution_count": null,
   "metadata": {},
   "outputs": [],
   "source": []
  },
  {
   "cell_type": "code",
   "execution_count": null,
   "metadata": {},
   "outputs": [],
   "source": []
  },
  {
   "cell_type": "code",
   "execution_count": null,
   "metadata": {},
   "outputs": [],
   "source": []
  },
  {
   "cell_type": "markdown",
   "metadata": {},
   "source": [
    "---"
   ]
  },
  {
   "cell_type": "markdown",
   "metadata": {},
   "source": [
    "## Future work"
   ]
  },
  {
   "cell_type": "markdown",
   "metadata": {
    "collapsed": true
   },
   "source": [
    "- Work on feature engineering, try to explore features that can help predicting the target more efficiently, come up with new columns.\n",
    "- Data Wrangling: try to clean the data whereever possible, drop the column if required.\n",
    "- Work on Hypothesis and baseline.\n",
    "- Work on model building and fitting the data into the model. Use the concepts taught in the class in order to fit the model, few of the classifiers which we are planning to use:\n",
    "    - Logistic Regression\n",
    "    - Gaussian Naive Bayes\n",
    "    - Concepts of resampling, for example Cross Validation\n",
    "    - Decision Tree\n",
    "    - Random Forest classifier\n",
    "    - Linear Regression\n",
    "    - Ridge/Lasso Regression\n",
    "    - Support Vector Machines\n",
    "- Create diagnostic tools for the models.\n",
    "- Define a metric to compare the models."
   ]
  },
  {
   "cell_type": "code",
   "execution_count": null,
   "metadata": {},
   "outputs": [],
   "source": []
  },
  {
   "cell_type": "code",
   "execution_count": null,
   "metadata": {},
   "outputs": [],
   "source": []
  },
  {
   "cell_type": "code",
   "execution_count": null,
   "metadata": {},
   "outputs": [],
   "source": []
  },
  {
   "cell_type": "code",
   "execution_count": null,
   "metadata": {},
   "outputs": [],
   "source": []
  },
  {
   "cell_type": "code",
   "execution_count": null,
   "metadata": {},
   "outputs": [],
   "source": []
  },
  {
   "cell_type": "code",
   "execution_count": null,
   "metadata": {},
   "outputs": [],
   "source": []
  }
 ],
 "metadata": {
  "kernelspec": {
   "display_name": "Python 3",
   "language": "python",
   "name": "python3"
  },
  "language_info": {
   "codemirror_mode": {
    "name": "ipython",
    "version": 3
   },
   "file_extension": ".py",
   "mimetype": "text/x-python",
   "name": "python",
   "nbconvert_exporter": "python",
   "pygments_lexer": "ipython3",
   "version": "3.6.2"
  }
 },
 "nbformat": 4,
 "nbformat_minor": 2
}
